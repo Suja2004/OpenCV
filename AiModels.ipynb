{
  "nbformat": 4,
  "nbformat_minor": 0,
  "metadata": {
    "colab": {
      "provenance": [],
      "authorship_tag": "ABX9TyPeOW216D0LL0eu/q8xsbxv",
      "include_colab_link": true
    },
    "kernelspec": {
      "name": "python3",
      "display_name": "Python 3"
    },
    "language_info": {
      "name": "python"
    }
  },
  "cells": [
    {
      "cell_type": "markdown",
      "metadata": {
        "id": "view-in-github",
        "colab_type": "text"
      },
      "source": [
        "<a href=\"https://colab.research.google.com/github/Suja2004/PythonProjects/blob/main/AiModels.ipynb\" target=\"_parent\"><img src=\"https://colab.research.google.com/assets/colab-badge.svg\" alt=\"Open In Colab\"/></a>"
      ]
    },
    {
      "cell_type": "markdown",
      "source": [
        "Cancer-Detection :malignant or benign"
      ],
      "metadata": {
        "id": "HCe6v9jgQkJH"
      }
    },
    {
      "cell_type": "code",
      "source": [
        "import pandas as pd\n",
        "dataset = pd.read_csv('Cancer.csv')"
      ],
      "metadata": {
        "id": "a58JrzZZqa0W"
      },
      "execution_count": null,
      "outputs": []
    },
    {
      "cell_type": "code",
      "source": [
        "x=dataset.drop(columns=[\"diagnosis(1=m, 0=b)\"])"
      ],
      "metadata": {
        "id": "LySmPgXmz4C8"
      },
      "execution_count": null,
      "outputs": []
    },
    {
      "cell_type": "code",
      "source": [
        "y=dataset[\"diagnosis(1=m, 0=b)\"]"
      ],
      "metadata": {
        "id": "Lk_kJ8nfz4GT"
      },
      "execution_count": null,
      "outputs": []
    },
    {
      "cell_type": "code",
      "source": [
        "from sklearn.model_selection import train_test_split\n",
        "x_train,x_test,y_train,y_test=train_test_split(x,y,test_size=0.2)"
      ],
      "metadata": {
        "id": "p-5WX6-mz4Lo"
      },
      "execution_count": null,
      "outputs": []
    },
    {
      "cell_type": "code",
      "source": [
        "import tensorflow as tf\n",
        "model=tf.keras.models.Sequential()"
      ],
      "metadata": {
        "id": "9h2cf2Tuz4Ps"
      },
      "execution_count": null,
      "outputs": []
    },
    {
      "cell_type": "code",
      "source": [
        "model.add(tf.keras.layers.Dense(256, input_shape=(x_train.shape[1],), activation='sigmoid'))\n",
        "model.add(tf.keras.layers.Dense(256,activation='sigmoid'))\n",
        "model.add(tf.keras.layers.Dense(1,activation='sigmoid'))"
      ],
      "metadata": {
        "collapsed": true,
        "id": "HTOw7iNwz4T3"
      },
      "execution_count": null,
      "outputs": []
    },
    {
      "cell_type": "code",
      "source": [
        "model.compile(optimizer='adam',loss='binary_crossentropy',metrics=['accuracy'])"
      ],
      "metadata": {
        "id": "byDQWH8tz4YR"
      },
      "execution_count": null,
      "outputs": []
    },
    {
      "cell_type": "code",
      "source": [
        "model.fit(x_train,y_train,epochs=1000)\n",
        "# print(model.summary())"
      ],
      "metadata": {
        "id": "dsRDgmsJz4bz"
      },
      "execution_count": null,
      "outputs": []
    },
    {
      "cell_type": "code",
      "source": [
        "model.evaluate(x_test,y_test)\n"
      ],
      "metadata": {
        "id": "uI4clVA60WrK"
      },
      "execution_count": null,
      "outputs": []
    },
    {
      "cell_type": "code",
      "source": [
        "from sklearn.metrics import classification_report, accuracy_score, precision_score, recall_score, f1_score\n",
        "y_pred = model.predict(x_test)\n",
        "y_pred_classes = (y_pred > 0.5).astype(\"int32\")  # Convert probabilities to binary classes\n",
        "\n",
        "# Calculate metrics\n",
        "accuracy = accuracy_score(y_test, y_pred_classes)\n",
        "precision = precision_score(y_test, y_pred_classes)\n",
        "recall = recall_score(y_test, y_pred_classes)\n",
        "f1 = f1_score(y_test, y_pred_classes)\n",
        "\n",
        "# Print metrics\n",
        "print(f\"Accuracy: {accuracy:.2f}\")\n",
        "print(f\"Precision: {precision:.2f}\")\n",
        "print(f\"Recall: {recall:.2f}\")\n",
        "print(f\"F1 Score: {f1:.2f}\")\n",
        "\n",
        "# Detailed classification report\n",
        "print(\"\\nClassification Report:\\n\", classification_report(y_test, y_pred_classes))"
      ],
      "metadata": {
        "id": "bkPIIiYh772G"
      },
      "execution_count": null,
      "outputs": []
    },
    {
      "cell_type": "code",
      "source": [],
      "metadata": {
        "id": "6YqVyZDM8Tyq"
      },
      "execution_count": null,
      "outputs": []
    },
    {
      "cell_type": "markdown",
      "source": [
        "Digit Recognizer"
      ],
      "metadata": {
        "id": "AaYreJ998UJl"
      }
    },
    {
      "cell_type": "code",
      "source": [
        "import numpy as np\n",
        "import pandas as pd\n",
        "from matplotlib import pyplot as plt"
      ],
      "metadata": {
        "id": "5--I5FvlRPEl"
      },
      "execution_count": null,
      "outputs": []
    },
    {
      "cell_type": "code",
      "source": [
        "data = pd.read_csv('train.csv')"
      ],
      "metadata": {
        "id": "3qQAKPtAUskO"
      },
      "execution_count": null,
      "outputs": []
    },
    {
      "cell_type": "code",
      "source": [
        "data.head()"
      ],
      "metadata": {
        "id": "oDq1QocyVFcY"
      },
      "execution_count": null,
      "outputs": []
    },
    {
      "cell_type": "code",
      "source": [
        "data = np.array(data)\n",
        "m, n = data.shape\n",
        "np.random.shuffle(data)\n",
        "\n",
        "data_dev = data[0:1000].T\n",
        "Y_dev = data_dev[0]\n",
        "X_dev = data_dev[1:n]\n",
        "X_dev = X_dev / 255.\n",
        "\n",
        "data_train = data[1000:m].T\n",
        "Y_train = data_train[0]\n",
        "X_train = data_train[1:n]\n",
        "X_train = X_train / 255.\n",
        "_,m_train = X_train.shape"
      ],
      "metadata": {
        "id": "kkGBSLcNVZ_b"
      },
      "execution_count": null,
      "outputs": []
    },
    {
      "cell_type": "code",
      "source": [
        "print(X_train[:,0].shape)\n",
        "Y_train"
      ],
      "metadata": {
        "id": "-fAjuO4Meyin"
      },
      "execution_count": null,
      "outputs": []
    },
    {
      "cell_type": "code",
      "source": [
        "def init_params():\n",
        "    W1 = np.random.rand(10,784) - 0.5\n",
        "    b1 = np.random.rand(10,1) - 0.5\n",
        "    w2 = np.random.rand(10,10) - 0.5\n",
        "    b2 = np.random.rand(10,1) - 0.5\n",
        "    return W1,b1,w2,b2\n",
        "\n",
        "def ReLU(Z):\n",
        "    return np.maximum(Z,0)\n",
        "\n",
        "def softmax(Z):\n",
        "    A = np.exp(Z) / sum(np.exp(Z))\n",
        "    return A\n",
        "\n",
        "def forward_prop(W1,b1,w2,b2,X):\n",
        "    Z1 = W1.dot(X) + b1\n",
        "    A1 = ReLU(Z1)\n",
        "    Z2 = w2.dot(A1) + b2\n",
        "    A2 = softmax(Z2)\n",
        "    return Z1,A1,Z2,A2\n",
        "\n",
        "def one_hot(Y):\n",
        "    one_hot_Y = np.zeros((Y.size,Y.max() + 1))\n",
        "    one_hot_Y[np.arange(Y.size),Y] = 1\n",
        "    one_hot_Y = one_hot_Y.T\n",
        "    return one_hot_Y\n",
        "\n",
        "def deriv_ReLU(Z):\n",
        "    return Z > 0\n",
        "\n",
        "def back_prop(Z1,A1,Z2,A2,W1,w2,X,Y):\n",
        "    m = Y.size\n",
        "    one_hot_Y = one_hot(Y)\n",
        "    dZ2 = A2 - one_hot_Y\n",
        "    dw2 = 1 / m * dZ2.dot(A1.T)\n",
        "    db2 = 1 / m * np.sum(dZ2)\n",
        "    dZ1 = w2.T.dot(dZ2) * deriv_ReLU(Z1)\n",
        "    dw1 = 1 / m * dZ1.dot(X.T)\n",
        "    db1 = 1 / m * np.sum(dZ1)\n",
        "    return dw1,db1,dw2,db2\n",
        "\n",
        "def update_params(W1,b1,w2,b2,dw1,db1,dw2,db2,alpha):\n",
        "    W1 = W1 - alpha * dw1\n",
        "    b1 = b1 - alpha * db1\n",
        "    w2 = w2 - alpha * dw2\n",
        "    b2 = b2 - alpha * db2\n",
        "    return W1,b1,w2,b2\n"
      ],
      "metadata": {
        "id": "o7-18ybhV-C3"
      },
      "execution_count": null,
      "outputs": []
    },
    {
      "cell_type": "code",
      "source": [
        "def get_predictions(A2):\n",
        "    return np.argmax(A2,0)\n",
        "\n",
        "def get_accuracy(predictions,Y):\n",
        "    print(predictions,Y)\n",
        "    return np.sum(predictions == Y) / Y.size\n",
        "\n",
        "def gradient_descent(X,Y,alpha,iterations):\n",
        "    W1,b1,w2,b2 = init_params()\n",
        "    for i in range(iterations):\n",
        "        Z1,A1,Z2,A2 = forward_prop(W1,b1,w2,b2,X)\n",
        "        dw1,db1,dw2,db2 = back_prop(Z1,A1,Z2,A2,W1,w2,X,Y)\n",
        "        W1,b1,w2,b2 = update_params(W1,b1,w2,b2,dw1,db1,dw2,db2,alpha)\n",
        "        if i % 10 == 0:\n",
        "            print(\"Iteration: \",i)\n",
        "            print(\"Accuracy: \", get_accuracy(get_predictions(A2),Y))\n",
        "    return W1,b1,w2,b2\n"
      ],
      "metadata": {
        "id": "PEQCYVqVWBjg"
      },
      "execution_count": null,
      "outputs": []
    },
    {
      "cell_type": "code",
      "source": [
        "W1,b1,w2,b2 = gradient_descent(X_train,Y_train,0.1,500)"
      ],
      "metadata": {
        "id": "s8ZcM_5dZk24"
      },
      "execution_count": null,
      "outputs": []
    },
    {
      "cell_type": "code",
      "source": [
        "def make_predictions(X, W1, b1, W2, b2):\n",
        "    _, _, _, A2 = forward_prop(W1, b1, W2, b2, X)\n",
        "    predictions = get_predictions(A2)\n",
        "    return predictions\n",
        "\n",
        "def test_prediction(index, W1, b1, W2, b2):\n",
        "    current_image = X_train[:, index, None]\n",
        "    prediction = make_predictions(X_train[:, index, None], W1, b1, W2, b2)\n",
        "    label = Y_train[index]\n",
        "    print(\"Prediction: \", prediction)\n",
        "    print(\"Label: \", label)\n",
        "\n",
        "    current_image = current_image.reshape((28, 28)) * 255\n",
        "    plt.gray()\n",
        "    plt.imshow(current_image, interpolation='nearest')\n",
        "    plt.show()"
      ],
      "metadata": {
        "id": "AlCO1pVxZ3Le"
      },
      "execution_count": null,
      "outputs": []
    },
    {
      "cell_type": "code",
      "source": [
        "test_prediction(0, W1, b1, w2, b2)\n",
        "test_prediction(1, W1, b1, w2, b2)\n",
        "test_prediction(2, W1, b1, w2, b2)\n",
        "test_prediction(3, W1, b1, w2, b2)"
      ],
      "metadata": {
        "id": "N9iOnuB0f0_0"
      },
      "execution_count": null,
      "outputs": []
    },
    {
      "cell_type": "code",
      "source": [],
      "metadata": {
        "id": "ZjEhZsqWf4Mh"
      },
      "execution_count": null,
      "outputs": []
    }
  ]
}